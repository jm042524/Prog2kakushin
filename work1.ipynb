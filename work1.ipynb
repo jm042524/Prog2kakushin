{
  "nbformat": 4,
  "nbformat_minor": 0,
  "metadata": {
    "colab": {
      "provenance": [],
      "authorship_tag": "ABX9TyPKM6QMiHeZuu1PRk5yYYHn",
      "include_colab_link": true
    },
    "kernelspec": {
      "name": "python3",
      "display_name": "Python 3"
    },
    "language_info": {
      "name": "python"
    }
  },
  "cells": [
    {
      "cell_type": "markdown",
      "metadata": {
        "id": "view-in-github",
        "colab_type": "text"
      },
      "source": [
        "<a href=\"https://colab.research.google.com/github/jm042524/Prog2kakushin/blob/main/work1.ipynb\" target=\"_parent\"><img src=\"https://colab.research.google.com/assets/colab-badge.svg\" alt=\"Open In Colab\"/></a>"
      ]
    },
    {
      "cell_type": "markdown",
      "source": [
        "##テーマ：Pandas\n",
        "好きな歌手の曲によく出てくる単語を表示するプログラムを作成します。(Pandasとmatplotlib)"
      ],
      "metadata": {
        "id": "Qzc02Fb7wzGS"
      }
    },
    {
      "cell_type": "code",
      "source": [
        "#コード：\n"
      ],
      "metadata": {
        "id": "b80Cxg0axOkZ"
      },
      "execution_count": null,
      "outputs": []
    }
  ]
}